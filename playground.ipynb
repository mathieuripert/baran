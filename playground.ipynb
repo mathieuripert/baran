{
 "cells": [
  {
   "cell_type": "code",
   "execution_count": 6,
   "id": "23481cd6",
   "metadata": {},
   "outputs": [
    {
     "data": {
      "text/plain": [
       "true"
      ]
     },
     "execution_count": 6,
     "metadata": {},
     "output_type": "execute_result"
    }
   ],
   "source": [
    "require_relative \"lib/baran\""
   ]
  },
  {
   "cell_type": "code",
   "execution_count": 9,
   "id": "619a7f12",
   "metadata": {},
   "outputs": [
    {
     "data": {
      "text/plain": [
       "\"\\n# Title 1\\nLorem ipsum dolor sit amet, \\nconsectetur adipiscing elit. \\nSed do eiusmod tempor incididunt ut labore et dolore magna aliqua.\\n\\n# Title 2\\nLorem ipsum dolor sit amet, \\nconsectetur adipiscing elit. \\nSed do eiusmod tempor incididunt ut labore et dolore magna aliqua.\\n\\n# Title 3\\nLorem ipsum dolor sit amet, \\nconsectetur adipiscing elit. \\nSed do eiusmod tempor incididunt ut labore et dolore magna aliqua.\\n\""
      ]
     },
     "execution_count": 9,
     "metadata": {},
     "output_type": "execute_result"
    }
   ],
   "source": [
    "text = \"\"\"\n",
    "# Title 1\n",
    "Lorem ipsum dolor sit amet, \n",
    "consectetur adipiscing elit. \n",
    "Sed do eiusmod tempor incididunt ut labore et dolore magna aliqua.\n",
    "\n",
    "# Title 2\n",
    "Lorem ipsum dolor sit amet, \n",
    "consectetur adipiscing elit. \n",
    "Sed do eiusmod tempor incididunt ut labore et dolore magna aliqua.\n",
    "\n",
    "# Title 3\n",
    "Lorem ipsum dolor sit amet, \n",
    "consectetur adipiscing elit. \n",
    "Sed do eiusmod tempor incididunt ut labore et dolore magna aliqua.\n",
    "\"\"\""
   ]
  },
  {
   "cell_type": "code",
   "execution_count": null,
   "id": "319658ed",
   "metadata": {},
   "outputs": [
    {
     "ename": "ArgumentError",
     "evalue": "unknown keyword: :separators",
     "output_type": "error",
     "traceback": [
      "\u001b[31mArgumentError\u001b[0m: unknown keyword: :separators",
      "/Users/mathieuripert/baran/lib/baran/character_text_splitter.rb:7:in `initialize'",
      "(irb):in `new'",
      "(irb):in `<top (required)>'"
     ]
    }
   ],
   "source": [
    "splitter = Baran::CharacterTextSplitter.new(\n",
    "  chunk_size: 64,\n",
    "  chunk_overlap: 0,\n",
    "  separator: [\"\\n# \"]\n",
    ")\n",
    "chunks = splitter.chunks(text)\n",
    "\n",
    "puts chunks\n"
   ]
  },
  {
   "cell_type": "code",
   "execution_count": null,
   "id": "b1430b81",
   "metadata": {},
   "outputs": [],
   "source": []
  }
 ],
 "metadata": {
  "kernelspec": {
   "display_name": "Ruby 3 (iruby kernel)",
   "language": "ruby",
   "name": "ruby3"
  },
  "language_info": {
   "file_extension": ".rb",
   "mimetype": "application/x-ruby",
   "name": "ruby",
   "version": "3.3.9"
  }
 },
 "nbformat": 4,
 "nbformat_minor": 5
}
