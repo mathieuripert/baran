{
 "cells": [
  {
   "cell_type": "code",
   "execution_count": 4,
   "id": "23481cd6",
   "metadata": {},
   "outputs": [
    {
     "data": {
      "text/plain": [
       "true"
      ]
     },
     "execution_count": 4,
     "metadata": {},
     "output_type": "execute_result"
    }
   ],
   "source": [
    "require_relative \"lib/baran\""
   ]
  },
  {
   "cell_type": "code",
   "execution_count": 6,
   "id": "619a7f12",
   "metadata": {},
   "outputs": [
    {
     "data": {
      "text/plain": [
       "\"\\n== Page 1 ==\\nLorem ipsum dolor sit amet, \\nconsectetur adipiscing elit. \\nSed do eiusmod tempor incididunt ut labore et dolore magna aliqua.\\n\\n== Page 2 ==\\nLorem ipsum dolor sit amet, \\nconsectetur adipiscing elit. \\nSed do eiusmod tempor incididunt ut labore et dolore magna aliqua.\\n\\n== Page 3 ==\\nLorem ipsum dolor sit amet, \\nconsectetur adipiscing elit. \\nSed do eiusmod tempor incididunt ut labore et dolore magna aliqua.\\n\""
      ]
     },
     "execution_count": 6,
     "metadata": {},
     "output_type": "execute_result"
    }
   ],
   "source": [
    "text = \"\"\"\n",
    "== Page 1 ==\n",
    "Lorem ipsum dolor sit amet, \n",
    "consectetur adipiscing elit. \n",
    "Sed do eiusmod tempor incididunt ut labore et dolore magna aliqua.\n",
    "\n",
    "== Page 2 ==\n",
    "Lorem ipsum dolor sit amet, \n",
    "consectetur adipiscing elit. \n",
    "Sed do eiusmod tempor incididunt ut labore et dolore magna aliqua.\n",
    "\n",
    "== Page 3 ==\n",
    "Lorem ipsum dolor sit amet, \n",
    "consectetur adipiscing elit. \n",
    "Sed do eiusmod tempor incididunt ut labore et dolore magna aliqua.\n",
    "\"\"\""
   ]
  },
  {
   "cell_type": "code",
   "execution_count": 8,
   "id": "319658ed",
   "metadata": {},
   "outputs": [
    {
     "name": "stdout",
     "output_type": "stream",
     "text": [
      "{:text=>\"== Page 1 ==\\nLorem ipsum dolor sit amet, \\nconsectetur adipiscing elit. \\nSed do eiusmod tempor incididunt ut labore et dolore magna aliqua.\", :cursor=>0}\n",
      "{:text=>\"== Page 2 ==\\nLorem ipsum dolor sit amet, \\nconsectetur adipiscing elit. \\nSed do eiusmod tempor incididunt ut labore et dolore magna aliqua.\", :cursor=>138}\n",
      "{:text=>\"== Page 3 ==\\nLorem ipsum dolor sit amet, \\nconsectetur adipiscing elit. \\nSed do eiusmod tempor incididunt ut labore et dolore magna aliqua.\", :cursor=>276}\n"
     ]
    }
   ],
   "source": [
    "page_separator = Regexp.new('== (?:Page )?\\\\d+ ==')\n",
    "token_count_fn = ->(text) { text.length / 2 }\n",
    "splitter = Baran::CharacterTextSplitter.new(\n",
    "  chunk_size: 64,\n",
    "  chunk_overlap: 0,\n",
    "  separator: page_separator,\n",
    "  token_count_fn: token_count_fn\n",
    ")\n",
    "chunks = splitter.chunks(text)\n",
    "puts chunks\n"
   ]
  },
  {
   "cell_type": "code",
   "execution_count": 15,
   "id": "b1430b81",
   "metadata": {},
   "outputs": [
    {
     "ename": "TypeError",
     "evalue": "no implicit conversion of Regexp into String",
     "output_type": "error",
     "traceback": [
      "\u001b[31mTypeError\u001b[0m: no implicit conversion of Regexp into String",
      "/Users/mathieuripert/baran/lib/baran/recursive_character_text_splitter.rb:18:in `include?'",
      "/Users/mathieuripert/baran/lib/baran/recursive_character_text_splitter.rb:18:in `block in splitted'",
      "/Users/mathieuripert/baran/lib/baran/recursive_character_text_splitter.rb:17:in `each'",
      "/Users/mathieuripert/baran/lib/baran/recursive_character_text_splitter.rb:17:in `splitted'",
      "/Users/mathieuripert/baran/lib/baran/text_splitter.rb:22:in `chunks'",
      "(irb):32:in `<top (required)>'"
     ]
    }
   ],
   "source": [
    "markdown_text = \"\"\"\n",
    "# T1\n",
    "Lorem ipsum dolor sit amet, \n",
    "consectetur adipiscing elit. \n",
    "Sed do eiusmod tempor incididunt ut labore et dolore magna aliqua.\n",
    "\n",
    "## T1.1\n",
    "Lorem ipsum dolor sit amet, \n",
    "consectetur adipiscing elit. \n",
    "Sed do eiusmod tempor incididunt ut labore et dolore magna aliqua.\n",
    "\n",
    "## T1.2\n",
    "Lorem ipsum dolor sit amet, \n",
    "consectetur adipiscing elit. \n",
    "Sed do eiusmod tempor incididunt ut labore et dolore magna aliqua.\n",
    "\n",
    "# T2\n",
    "Lorem ipsum dolor sit amet, \n",
    "consectetur adipiscing elit. \n",
    "Sed do eiusmod tempor incididunt ut labore et dolore magna aliqua.\n",
    "\"\"\"\n",
    "\n",
    "separators = [\n",
    "  /\\n# /,  # heading 1\n",
    "]\n",
    "token_count_fn = ->(text) { text.length }\n",
    "splitter = Baran::RecursiveCharacterTextSplitter.new(\n",
    "  chunk_size: 512,\n",
    "  chunk_overlap: 0,\n",
    "  separators: separators,\n",
    "  #token_count_fn: token_count_fn\n",
    ")\n",
    "chunks = splitter.chunks(markdown_text)\n",
    "puts chunks.size"
   ]
  },
  {
   "cell_type": "code",
   "execution_count": 14,
   "id": "69dc5096",
   "metadata": {},
   "outputs": [
    {
     "name": "stdout",
     "output_type": "stream",
     "text": [
      "# T1\n",
      "Lorem ipsum dolor sit amet, \n",
      "consectetur adipiscing elit. \n",
      "Sed do eiusmod tempor incididunt ut labore et dolore magna aliqua.\n",
      "\n",
      "## T1.1\n",
      "Lorem ipsum dolor sit amet, \n",
      "consectetur adipiscing elit. \n",
      "Sed do eiusmod tempor incididunt ut labore et dolore magna aliqua.\n",
      "\n",
      "## T1.2\n",
      "Lorem ipsum dolor sit amet, \n",
      "consectetur adipiscing elit. \n",
      "Sed do eiusmod tempor incididunt ut labore et dolore magna aliqua.\n",
      "------------------------------------------------------------------------------------------------------------------------------------------------------------------------------------------------------------------------------------------------------------------------------------------------------------\n",
      "T2\n",
      "Lorem ipsum dolor sit amet, \n",
      "consectetur adipiscing elit. \n",
      "Sed do eiusmod tempor incididunt ut labore et dolore magna aliqua.\n",
      "------------------------------------------------------------------------------------------------------------------------------------------------------------------------------------------------------------------------------------------------------------------------------------------------------------\n"
     ]
    },
    {
     "data": {
      "text/plain": [
       "[{:text=>\"# T1\\nLorem ipsum dolor sit amet, \\nconsectetur adipiscing elit. \\nSed do eiusmod tempor incididunt ut labore et dolore magna aliqua.\\n\\n## T1.1\\nLorem ipsum dolor sit amet, \\nconsectetur adipiscing elit. \\nSed do eiusmod tempor incididunt ut labore et dolore magna aliqua.\\n\\n## T1.2\\nLorem ipsum dolor sit amet, \\nconsectetur adipiscing elit. \\nSed do eiusmod tempor incididunt ut labore et dolore magna aliqua.\", :cursor=>0}, {:text=>\"T2\\nLorem ipsum dolor sit amet, \\nconsectetur adipiscing elit. \\nSed do eiusmod tempor incididunt ut labore et dolore magna aliqua.\", :cursor=>400}]"
      ]
     },
     "execution_count": 14,
     "metadata": {},
     "output_type": "execute_result"
    }
   ],
   "source": [
    "chunks.each do |chunk|\n",
    "  puts chunk[:text]\n",
    "  puts \"---\"*100\n",
    "end"
   ]
  },
  {
   "cell_type": "code",
   "execution_count": null,
   "id": "c6726a4a",
   "metadata": {},
   "outputs": [],
   "source": []
  }
 ],
 "metadata": {
  "kernelspec": {
   "display_name": "Ruby 3 (iruby kernel)",
   "language": "ruby",
   "name": "ruby3"
  },
  "language_info": {
   "file_extension": ".rb",
   "mimetype": "application/x-ruby",
   "name": "ruby",
   "version": "3.3.9"
  }
 },
 "nbformat": 4,
 "nbformat_minor": 5
}
